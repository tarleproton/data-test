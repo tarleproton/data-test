{
  "nbformat": 4,
  "nbformat_minor": 0,
  "metadata": {
    "kernelspec": {
      "display_name": "Python 3",
      "language": "python",
      "name": "python3"
    },
    "language_info": {
      "codemirror_mode": {
        "name": "ipython",
        "version": 3
      },
      "file_extension": ".py",
      "mimetype": "text/x-python",
      "name": "python",
      "nbconvert_exporter": "python",
      "pygments_lexer": "ipython3",
      "version": "3.7.6"
    },
    "colab": {
      "name": "IT_SF.ipynb",
      "provenance": [],
      "include_colab_link": true
    }
  },
  "cells": [
    {
      "cell_type": "markdown",
      "metadata": {
        "id": "view-in-github",
        "colab_type": "text"
      },
      "source": [
        "<a href=\"https://colab.research.google.com/github/tarleproton/data-test/blob/main/IT_SF.ipynb\" target=\"_parent\"><img src=\"https://colab.research.google.com/assets/colab-badge.svg\" alt=\"Open In Colab\"/></a>"
      ]
    },
    {
      "cell_type": "markdown",
      "metadata": {
        "id": "b2cRSW3-Np8D"
      },
      "source": [
        "**Пояснения к данным**:\n",
        " - \tagreement - датасет, содержащий в себе договора с клиентами и основные характеристики необходимые для задач;\n",
        " - \tcash - история по операциям, выполняемым относительно договоров, как со стороны клиентов, так и со стороны компании;\n",
        "        - agree_id - id договора;\n",
        "        - person_id - id клиента;\n",
        "        - loan_money - сумма в рублях, на которую был составлен договор изначально;\n",
        "        - loan_days - количество дней, на которые был составлен договор изначально;\n",
        "        - date_create - дата создания договора;\n",
        "        - agree_status_id - статус договора (12 - Договор подписан;13 -Договор подписан;16 - Действующий;17 - Действующий;19 - закрытый договор;20 - просрочен;);\n",
        "        - fact_loan_days - cколько дней длился/длится по факту;\n",
        "        - daily_percent - процент, который начисляется к итоговой сумме для погашения на ежедневной основе в рамках каждого договора;\n",
        "        - date_create_transaction - дата создания записи по выполненной операции (транзакции);\n",
        "        - status_id - id статуса, который расшифровывает тип операции (60 - погашение займа; 62 -выдача займа);\n",
        "        - amount - сумма в рублях, на которые была произведена та или иная операция;\n"
      ]
    },
    {
      "cell_type": "markdown",
      "metadata": {
        "id": "hwtPG9WFNp8R"
      },
      "source": [
        "# <a name=\"1common.\"></a>\n",
        "## <a name=\"0.0\"></a>Содержание:\n",
        "* [1. Анализ данных и их обработка](#0.)\n",
        "* [2. Вычислите кол-во закрытых и открытых договоров за весь данный период (операции должны покрывать друг друга);](#8.)\n",
        "* [3. Проведите оценку прибыли, которую получила компания в сравнение с тем, что выдали и что получили по уже закрытым договорам;](#9.)\n",
        "* [4. Постройте три недельные когорты по следующим срезам::](#10.)\n",
        "    * [Количество выдач/заключенных договоров (сколько всего и на какие средние суммы);](#11.)\n",
        "    * [Количество закрытых договоров (количество и средняя прибыль, которую компания получила с них по итогу);](#12.)\n",
        "    * [Корректным будет искать договора где заемщик рассчитался за кредит и по ним вычеслить среднию прибыль.](#13.)\n",
        "    * [Какие изменения за каждую неделю по отношению к предыдущей по выплатам со стороны клиентов;](#14.)\n",
        "* [5. Кластерезация  клиентов (person_id) по двум параметрам: частота заключенных договоров и суммы, на которые эти договора заключались;](#16.)"
      ]
    },
    {
      "cell_type": "markdown",
      "metadata": {
        "id": "ak5j0wZBNp8S"
      },
      "source": [
        "## 1. Анализ данных и их обработка\n",
        "<a name=\"0.\"></a>\n",
        "[<font size=\"2\">(к содержанию)</font>](#1common.)"
      ]
    },
    {
      "cell_type": "code",
      "metadata": {
        "id": "az_bykToNp8T"
      },
      "source": [
        "import json\n",
        "import pandas as pd\n",
        "import numpy as np\n",
        "from sklearn.cluster import KMeans\n",
        "import seaborn as sns\n",
        "import matplotlib.pyplot as plt\n",
        "import time"
      ],
      "execution_count": null,
      "outputs": []
    },
    {
      "cell_type": "code",
      "metadata": {
        "id": "Hf7s16l6Np8U"
      },
      "source": [
        "cash  = pd.read_json('cash.json')"
      ],
      "execution_count": null,
      "outputs": []
    },
    {
      "cell_type": "code",
      "metadata": {
        "id": "rJaUQwziNp8U",
        "outputId": "225aecaa-99e7-481d-d6cd-698a39a414d2"
      },
      "source": [
        "cash.info()"
      ],
      "execution_count": null,
      "outputs": [
        {
          "output_type": "stream",
          "text": [
            "<class 'pandas.core.frame.DataFrame'>\n",
            "Int64Index: 209147 entries, 0 to 209146\n",
            "Data columns (total 5 columns):\n",
            "agree_id                   209147 non-null int64\n",
            "date_create_transaction    209147 non-null int64\n",
            "amount                     209147 non-null float64\n",
            "person_id                  209147 non-null int64\n",
            "status_id                  209147 non-null int64\n",
            "dtypes: float64(1), int64(4)\n",
            "memory usage: 9.6 MB\n"
          ],
          "name": "stdout"
        }
      ]
    },
    {
      "cell_type": "code",
      "metadata": {
        "id": "ki6qv6lhNp8X",
        "outputId": "81dfe8e7-d35c-48e8-de31-924717d42f69"
      },
      "source": [
        "cash.duplicated().sum()#наличие полных дубликатов"
      ],
      "execution_count": null,
      "outputs": [
        {
          "output_type": "execute_result",
          "data": {
            "text/plain": [
              "155"
            ]
          },
          "metadata": {
            "tags": []
          },
          "execution_count": 4
        }
      ]
    },
    {
      "cell_type": "code",
      "metadata": {
        "id": "chVb4FbjNp8Y",
        "outputId": "411070bf-7b69-4eba-d521-ddfea032e780"
      },
      "source": [
        "cash.head()"
      ],
      "execution_count": null,
      "outputs": [
        {
          "output_type": "execute_result",
          "data": {
            "text/html": [
              "<div>\n",
              "<style scoped>\n",
              "    .dataframe tbody tr th:only-of-type {\n",
              "        vertical-align: middle;\n",
              "    }\n",
              "\n",
              "    .dataframe tbody tr th {\n",
              "        vertical-align: top;\n",
              "    }\n",
              "\n",
              "    .dataframe thead th {\n",
              "        text-align: right;\n",
              "    }\n",
              "</style>\n",
              "<table border=\"1\" class=\"dataframe\">\n",
              "  <thead>\n",
              "    <tr style=\"text-align: right;\">\n",
              "      <th></th>\n",
              "      <th>agree_id</th>\n",
              "      <th>date_create_transaction</th>\n",
              "      <th>amount</th>\n",
              "      <th>person_id</th>\n",
              "      <th>status_id</th>\n",
              "    </tr>\n",
              "  </thead>\n",
              "  <tbody>\n",
              "    <tr>\n",
              "      <td>0</td>\n",
              "      <td>1352390</td>\n",
              "      <td>1590969778615</td>\n",
              "      <td>6237.0</td>\n",
              "      <td>1408412</td>\n",
              "      <td>59</td>\n",
              "    </tr>\n",
              "    <tr>\n",
              "      <td>1</td>\n",
              "      <td>1372070</td>\n",
              "      <td>1590970073693</td>\n",
              "      <td>-31780.0</td>\n",
              "      <td>1922331</td>\n",
              "      <td>62</td>\n",
              "    </tr>\n",
              "    <tr>\n",
              "      <td>2</td>\n",
              "      <td>1372449</td>\n",
              "      <td>1590970200503</td>\n",
              "      <td>56135.8</td>\n",
              "      <td>1686194</td>\n",
              "      <td>60</td>\n",
              "    </tr>\n",
              "    <tr>\n",
              "      <td>3</td>\n",
              "      <td>1364376</td>\n",
              "      <td>1590970538773</td>\n",
              "      <td>19024.6</td>\n",
              "      <td>2134626</td>\n",
              "      <td>60</td>\n",
              "    </tr>\n",
              "    <tr>\n",
              "      <td>4</td>\n",
              "      <td>1360366</td>\n",
              "      <td>1590970557056</td>\n",
              "      <td>31329.2</td>\n",
              "      <td>2090871</td>\n",
              "      <td>60</td>\n",
              "    </tr>\n",
              "  </tbody>\n",
              "</table>\n",
              "</div>"
            ],
            "text/plain": [
              "   agree_id  date_create_transaction   amount  person_id  status_id\n",
              "0   1352390            1590969778615   6237.0    1408412         59\n",
              "1   1372070            1590970073693 -31780.0    1922331         62\n",
              "2   1372449            1590970200503  56135.8    1686194         60\n",
              "3   1364376            1590970538773  19024.6    2134626         60\n",
              "4   1360366            1590970557056  31329.2    2090871         60"
            ]
          },
          "metadata": {
            "tags": []
          },
          "execution_count": 5
        }
      ]
    },
    {
      "cell_type": "code",
      "metadata": {
        "id": "XirYoxrDNp8Z"
      },
      "source": [
        "agreement   = pd.read_json('agreement.json')"
      ],
      "execution_count": null,
      "outputs": []
    },
    {
      "cell_type": "code",
      "metadata": {
        "id": "t69amFvONp8Z",
        "outputId": "797524c3-1fd6-4e43-cd12-12a1407d77cd"
      },
      "source": [
        "agreement.info()"
      ],
      "execution_count": null,
      "outputs": [
        {
          "output_type": "stream",
          "text": [
            "<class 'pandas.core.frame.DataFrame'>\n",
            "Int64Index: 59533 entries, 0 to 59532\n",
            "Data columns (total 8 columns):\n",
            "person_id          59533 non-null int64\n",
            "agree_id           59533 non-null int64\n",
            "loan_money         59533 non-null int64\n",
            "loan_days          59533 non-null float64\n",
            "date_create        59533 non-null int64\n",
            "daily_percent      59533 non-null float64\n",
            "agree_status_id    59533 non-null int64\n",
            "fact_loan_days     59533 non-null float64\n",
            "dtypes: float64(3), int64(5)\n",
            "memory usage: 4.1 MB\n"
          ],
          "name": "stdout"
        }
      ]
    },
    {
      "cell_type": "code",
      "metadata": {
        "id": "gkHjNAzKNp8b",
        "outputId": "11fdccc0-e6ec-4849-e3cd-1ca66b3415d9"
      },
      "source": [
        "agreement.tail()"
      ],
      "execution_count": null,
      "outputs": [
        {
          "output_type": "execute_result",
          "data": {
            "text/html": [
              "<div>\n",
              "<style scoped>\n",
              "    .dataframe tbody tr th:only-of-type {\n",
              "        vertical-align: middle;\n",
              "    }\n",
              "\n",
              "    .dataframe tbody tr th {\n",
              "        vertical-align: top;\n",
              "    }\n",
              "\n",
              "    .dataframe thead th {\n",
              "        text-align: right;\n",
              "    }\n",
              "</style>\n",
              "<table border=\"1\" class=\"dataframe\">\n",
              "  <thead>\n",
              "    <tr style=\"text-align: right;\">\n",
              "      <th></th>\n",
              "      <th>person_id</th>\n",
              "      <th>agree_id</th>\n",
              "      <th>loan_money</th>\n",
              "      <th>loan_days</th>\n",
              "      <th>date_create</th>\n",
              "      <th>daily_percent</th>\n",
              "      <th>agree_status_id</th>\n",
              "      <th>fact_loan_days</th>\n",
              "    </tr>\n",
              "  </thead>\n",
              "  <tbody>\n",
              "    <tr>\n",
              "      <td>59528</td>\n",
              "      <td>2281802</td>\n",
              "      <td>1438321</td>\n",
              "      <td>17780</td>\n",
              "      <td>84.0</td>\n",
              "      <td>1603557027115</td>\n",
              "      <td>2.8</td>\n",
              "      <td>16</td>\n",
              "      <td>2.8</td>\n",
              "    </tr>\n",
              "    <tr>\n",
              "      <td>59529</td>\n",
              "      <td>2299522</td>\n",
              "      <td>1438257</td>\n",
              "      <td>17780</td>\n",
              "      <td>42.0</td>\n",
              "      <td>1603549965425</td>\n",
              "      <td>2.8</td>\n",
              "      <td>16</td>\n",
              "      <td>5.6</td>\n",
              "    </tr>\n",
              "    <tr>\n",
              "      <td>59530</td>\n",
              "      <td>1748207</td>\n",
              "      <td>1438015</td>\n",
              "      <td>17780</td>\n",
              "      <td>84.0</td>\n",
              "      <td>1603528113748</td>\n",
              "      <td>2.8</td>\n",
              "      <td>16</td>\n",
              "      <td>5.6</td>\n",
              "    </tr>\n",
              "    <tr>\n",
              "      <td>59531</td>\n",
              "      <td>2239164</td>\n",
              "      <td>1435151</td>\n",
              "      <td>23380</td>\n",
              "      <td>42.0</td>\n",
              "      <td>1603038532476</td>\n",
              "      <td>2.8</td>\n",
              "      <td>19</td>\n",
              "      <td>14.0</td>\n",
              "    </tr>\n",
              "    <tr>\n",
              "      <td>59532</td>\n",
              "      <td>2163190</td>\n",
              "      <td>1438258</td>\n",
              "      <td>9380</td>\n",
              "      <td>42.0</td>\n",
              "      <td>1603549969963</td>\n",
              "      <td>2.8</td>\n",
              "      <td>16</td>\n",
              "      <td>5.6</td>\n",
              "    </tr>\n",
              "  </tbody>\n",
              "</table>\n",
              "</div>"
            ],
            "text/plain": [
              "       person_id  agree_id  loan_money  loan_days    date_create  \\\n",
              "59528    2281802   1438321       17780       84.0  1603557027115   \n",
              "59529    2299522   1438257       17780       42.0  1603549965425   \n",
              "59530    1748207   1438015       17780       84.0  1603528113748   \n",
              "59531    2239164   1435151       23380       42.0  1603038532476   \n",
              "59532    2163190   1438258        9380       42.0  1603549969963   \n",
              "\n",
              "       daily_percent  agree_status_id  fact_loan_days  \n",
              "59528            2.8               16             2.8  \n",
              "59529            2.8               16             5.6  \n",
              "59530            2.8               16             5.6  \n",
              "59531            2.8               19            14.0  \n",
              "59532            2.8               16             5.6  "
            ]
          },
          "metadata": {
            "tags": []
          },
          "execution_count": 8
        }
      ]
    },
    {
      "cell_type": "code",
      "metadata": {
        "id": "Ztfemg4mNp8h",
        "outputId": "ce4b4c10-e1a4-4569-a78a-6db50530df0a"
      },
      "source": [
        "agreement.duplicated().sum()"
      ],
      "execution_count": null,
      "outputs": [
        {
          "output_type": "execute_result",
          "data": {
            "text/plain": [
              "0"
            ]
          },
          "metadata": {
            "tags": []
          },
          "execution_count": 9
        }
      ]
    },
    {
      "cell_type": "code",
      "metadata": {
        "id": "6onQM_-NNp8k",
        "outputId": "085406bc-2918-48b7-d41a-b584b5db0eec"
      },
      "source": [
        "len(agreement['agree_id'].unique())\n",
        "#количество уникальных договоров"
      ],
      "execution_count": null,
      "outputs": [
        {
          "output_type": "execute_result",
          "data": {
            "text/plain": [
              "59533"
            ]
          },
          "metadata": {
            "tags": []
          },
          "execution_count": 10
        }
      ]
    },
    {
      "cell_type": "code",
      "metadata": {
        "id": "lfTP9aUjNp8l",
        "outputId": "b9d35822-3ec2-485c-c342-425fd234b136"
      },
      "source": [
        "len(cash['agree_id'].unique())\n",
        "#количество уникальных договоров"
      ],
      "execution_count": null,
      "outputs": [
        {
          "output_type": "execute_result",
          "data": {
            "text/plain": [
              "75026"
            ]
          },
          "metadata": {
            "tags": []
          },
          "execution_count": 11
        }
      ]
    },
    {
      "cell_type": "code",
      "metadata": {
        "id": "6ZAXiXDsNp8m"
      },
      "source": [
        "#изменим формат даты. unix time, но мс.\n",
        "cash['date_create_transaction'] = pd.to_datetime(round(cash['date_create_transaction']/1000), unit='s')"
      ],
      "execution_count": null,
      "outputs": []
    },
    {
      "cell_type": "code",
      "metadata": {
        "id": "RDCnUOneNp8m"
      },
      "source": [
        "agreement['date_create'] = pd.to_datetime(round(agreement['date_create']/1000), unit='s')"
      ],
      "execution_count": null,
      "outputs": []
    },
    {
      "cell_type": "markdown",
      "metadata": {
        "id": "lIyKWS3WNp8n"
      },
      "source": [
        "**За отправную точку можено взять уникальный id договора в agreement. И на его основе объединить две таблицы.\n",
        "Часть договоров пропадет. Но это те договора, у которых априори будет отсутствовать дата создания. Поскольку важным для выполнения задачи является покрывание операций друг другом, а у нас появятся те договора, в которых не будет известна дата их создания, соответственно, мы не сможем посчитать нужные нам показатели, удаление именно этой части данных считаю обоснованным.**"
      ]
    },
    {
      "cell_type": "code",
      "metadata": {
        "id": "1nlhLmKnNp8o"
      },
      "source": [
        "df = cash.merge(agreement, on='agree_id', how='right')#объеденим таблици"
      ],
      "execution_count": null,
      "outputs": []
    },
    {
      "cell_type": "code",
      "metadata": {
        "id": "dKpqFp8CNp8o"
      },
      "source": [
        "df.drop(['person_id_y'], axis='columns', inplace=True)"
      ],
      "execution_count": null,
      "outputs": []
    },
    {
      "cell_type": "markdown",
      "metadata": {
        "id": "Fp1zUI-dNp8p"
      },
      "source": [
        "**Изучим сводную таблицу**"
      ]
    },
    {
      "cell_type": "code",
      "metadata": {
        "id": "TUGgM47TNp8q",
        "outputId": "aebdc323-ee3e-4117-d737-4292dcc5f2b9"
      },
      "source": [
        "df.head()"
      ],
      "execution_count": null,
      "outputs": [
        {
          "output_type": "execute_result",
          "data": {
            "text/html": [
              "<div>\n",
              "<style scoped>\n",
              "    .dataframe tbody tr th:only-of-type {\n",
              "        vertical-align: middle;\n",
              "    }\n",
              "\n",
              "    .dataframe tbody tr th {\n",
              "        vertical-align: top;\n",
              "    }\n",
              "\n",
              "    .dataframe thead th {\n",
              "        text-align: right;\n",
              "    }\n",
              "</style>\n",
              "<table border=\"1\" class=\"dataframe\">\n",
              "  <thead>\n",
              "    <tr style=\"text-align: right;\">\n",
              "      <th></th>\n",
              "      <th>agree_id</th>\n",
              "      <th>date_create_transaction</th>\n",
              "      <th>amount</th>\n",
              "      <th>person_id_x</th>\n",
              "      <th>status_id</th>\n",
              "      <th>loan_money</th>\n",
              "      <th>loan_days</th>\n",
              "      <th>date_create</th>\n",
              "      <th>daily_percent</th>\n",
              "      <th>agree_status_id</th>\n",
              "      <th>fact_loan_days</th>\n",
              "    </tr>\n",
              "  </thead>\n",
              "  <tbody>\n",
              "    <tr>\n",
              "      <td>0</td>\n",
              "      <td>1372926</td>\n",
              "      <td>2020-06-01 06:36:18</td>\n",
              "      <td>-23380.0</td>\n",
              "      <td>2134182.0</td>\n",
              "      <td>62.0</td>\n",
              "      <td>23380</td>\n",
              "      <td>42.0</td>\n",
              "      <td>2020-06-01 06:29:31</td>\n",
              "      <td>2.8</td>\n",
              "      <td>19</td>\n",
              "      <td>109.2</td>\n",
              "    </tr>\n",
              "    <tr>\n",
              "      <td>1</td>\n",
              "      <td>1372926</td>\n",
              "      <td>2020-06-23 06:09:53</td>\n",
              "      <td>5143.6</td>\n",
              "      <td>2134182.0</td>\n",
              "      <td>59.0</td>\n",
              "      <td>23380</td>\n",
              "      <td>42.0</td>\n",
              "      <td>2020-06-01 06:29:31</td>\n",
              "      <td>2.8</td>\n",
              "      <td>19</td>\n",
              "      <td>109.2</td>\n",
              "    </tr>\n",
              "    <tr>\n",
              "      <td>2</td>\n",
              "      <td>1372926</td>\n",
              "      <td>2020-07-10 08:40:48</td>\n",
              "      <td>27354.6</td>\n",
              "      <td>2134182.0</td>\n",
              "      <td>60.0</td>\n",
              "      <td>23380</td>\n",
              "      <td>42.0</td>\n",
              "      <td>2020-06-01 06:29:31</td>\n",
              "      <td>2.8</td>\n",
              "      <td>19</td>\n",
              "      <td>109.2</td>\n",
              "    </tr>\n",
              "    <tr>\n",
              "      <td>3</td>\n",
              "      <td>1372929</td>\n",
              "      <td>2020-06-01 06:52:21</td>\n",
              "      <td>-28980.0</td>\n",
              "      <td>2182455.0</td>\n",
              "      <td>62.0</td>\n",
              "      <td>28980</td>\n",
              "      <td>42.0</td>\n",
              "      <td>2020-06-01 06:48:53</td>\n",
              "      <td>2.8</td>\n",
              "      <td>19</td>\n",
              "      <td>42.0</td>\n",
              "    </tr>\n",
              "    <tr>\n",
              "      <td>4</td>\n",
              "      <td>1372929</td>\n",
              "      <td>2020-06-16 06:08:07</td>\n",
              "      <td>33327.0</td>\n",
              "      <td>2182455.0</td>\n",
              "      <td>60.0</td>\n",
              "      <td>28980</td>\n",
              "      <td>42.0</td>\n",
              "      <td>2020-06-01 06:48:53</td>\n",
              "      <td>2.8</td>\n",
              "      <td>19</td>\n",
              "      <td>42.0</td>\n",
              "    </tr>\n",
              "  </tbody>\n",
              "</table>\n",
              "</div>"
            ],
            "text/plain": [
              "   agree_id date_create_transaction   amount  person_id_x  status_id  \\\n",
              "0   1372926     2020-06-01 06:36:18 -23380.0    2134182.0       62.0   \n",
              "1   1372926     2020-06-23 06:09:53   5143.6    2134182.0       59.0   \n",
              "2   1372926     2020-07-10 08:40:48  27354.6    2134182.0       60.0   \n",
              "3   1372929     2020-06-01 06:52:21 -28980.0    2182455.0       62.0   \n",
              "4   1372929     2020-06-16 06:08:07  33327.0    2182455.0       60.0   \n",
              "\n",
              "   loan_money  loan_days         date_create  daily_percent  agree_status_id  \\\n",
              "0       23380       42.0 2020-06-01 06:29:31            2.8               19   \n",
              "1       23380       42.0 2020-06-01 06:29:31            2.8               19   \n",
              "2       23380       42.0 2020-06-01 06:29:31            2.8               19   \n",
              "3       28980       42.0 2020-06-01 06:48:53            2.8               19   \n",
              "4       28980       42.0 2020-06-01 06:48:53            2.8               19   \n",
              "\n",
              "   fact_loan_days  \n",
              "0           109.2  \n",
              "1           109.2  \n",
              "2           109.2  \n",
              "3            42.0  \n",
              "4            42.0  "
            ]
          },
          "metadata": {
            "tags": []
          },
          "execution_count": 16
        }
      ]
    },
    {
      "cell_type": "code",
      "metadata": {
        "id": "mjiDVS-UNp8r",
        "outputId": "185d9ea0-ad87-491c-c6b4-0ce70bc2243b"
      },
      "source": [
        "df.describe()\n",
        "#странно, но средняя по amount отрицательна. фирма работает в убыток? что-то не так, позже проверим."
      ],
      "execution_count": null,
      "outputs": [
        {
          "output_type": "execute_result",
          "data": {
            "text/html": [
              "<div>\n",
              "<style scoped>\n",
              "    .dataframe tbody tr th:only-of-type {\n",
              "        vertical-align: middle;\n",
              "    }\n",
              "\n",
              "    .dataframe tbody tr th {\n",
              "        vertical-align: top;\n",
              "    }\n",
              "\n",
              "    .dataframe thead th {\n",
              "        text-align: right;\n",
              "    }\n",
              "</style>\n",
              "<table border=\"1\" class=\"dataframe\">\n",
              "  <thead>\n",
              "    <tr style=\"text-align: right;\">\n",
              "      <th></th>\n",
              "      <th>agree_id</th>\n",
              "      <th>amount</th>\n",
              "      <th>person_id_x</th>\n",
              "      <th>status_id</th>\n",
              "      <th>loan_money</th>\n",
              "      <th>loan_days</th>\n",
              "      <th>daily_percent</th>\n",
              "      <th>agree_status_id</th>\n",
              "      <th>fact_loan_days</th>\n",
              "    </tr>\n",
              "  </thead>\n",
              "  <tbody>\n",
              "    <tr>\n",
              "      <td>count</td>\n",
              "      <td>1.619550e+05</td>\n",
              "      <td>161951.000000</td>\n",
              "      <td>1.619510e+05</td>\n",
              "      <td>161951.000000</td>\n",
              "      <td>161955.000000</td>\n",
              "      <td>161955.000000</td>\n",
              "      <td>161955.000000</td>\n",
              "      <td>161955.000000</td>\n",
              "      <td>161955.000000</td>\n",
              "    </tr>\n",
              "    <tr>\n",
              "      <td>mean</td>\n",
              "      <td>1.401169e+06</td>\n",
              "      <td>-1380.603708</td>\n",
              "      <td>1.927744e+06</td>\n",
              "      <td>60.576310</td>\n",
              "      <td>28927.550245</td>\n",
              "      <td>61.476835</td>\n",
              "      <td>2.799714</td>\n",
              "      <td>18.771887</td>\n",
              "      <td>108.851511</td>\n",
              "    </tr>\n",
              "    <tr>\n",
              "      <td>std</td>\n",
              "      <td>1.745184e+04</td>\n",
              "      <td>26013.783300</td>\n",
              "      <td>4.595645e+05</td>\n",
              "      <td>1.148726</td>\n",
              "      <td>14536.350012</td>\n",
              "      <td>21.067964</td>\n",
              "      <td>0.013868</td>\n",
              "      <td>0.936783</td>\n",
              "      <td>91.688708</td>\n",
              "    </tr>\n",
              "    <tr>\n",
              "      <td>min</td>\n",
              "      <td>1.372926e+06</td>\n",
              "      <td>-168000.000000</td>\n",
              "      <td>5.930000e+02</td>\n",
              "      <td>59.000000</td>\n",
              "      <td>1400.000000</td>\n",
              "      <td>14.000000</td>\n",
              "      <td>2.128000</td>\n",
              "      <td>12.000000</td>\n",
              "      <td>0.000000</td>\n",
              "    </tr>\n",
              "    <tr>\n",
              "      <td>25%</td>\n",
              "      <td>1.386500e+06</td>\n",
              "      <td>-17780.000000</td>\n",
              "      <td>1.836525e+06</td>\n",
              "      <td>60.000000</td>\n",
              "      <td>17780.000000</td>\n",
              "      <td>42.000000</td>\n",
              "      <td>2.800000</td>\n",
              "      <td>19.000000</td>\n",
              "      <td>39.200000</td>\n",
              "    </tr>\n",
              "    <tr>\n",
              "      <td>50%</td>\n",
              "      <td>1.399863e+06</td>\n",
              "      <td>1686.776000</td>\n",
              "      <td>2.113558e+06</td>\n",
              "      <td>60.000000</td>\n",
              "      <td>23380.000000</td>\n",
              "      <td>56.000000</td>\n",
              "      <td>2.800000</td>\n",
              "      <td>19.000000</td>\n",
              "      <td>84.000000</td>\n",
              "    </tr>\n",
              "    <tr>\n",
              "      <td>75%</td>\n",
              "      <td>1.414693e+06</td>\n",
              "      <td>12894.000000</td>\n",
              "      <td>2.213616e+06</td>\n",
              "      <td>62.000000</td>\n",
              "      <td>37380.000000</td>\n",
              "      <td>84.000000</td>\n",
              "      <td>2.800000</td>\n",
              "      <td>19.000000</td>\n",
              "      <td>159.600000</td>\n",
              "    </tr>\n",
              "    <tr>\n",
              "      <td>max</td>\n",
              "      <td>1.439191e+06</td>\n",
              "      <td>108458.000000</td>\n",
              "      <td>2.300950e+06</td>\n",
              "      <td>62.000000</td>\n",
              "      <td>168000.000000</td>\n",
              "      <td>352.800000</td>\n",
              "      <td>2.800000</td>\n",
              "      <td>20.000000</td>\n",
              "      <td>411.600000</td>\n",
              "    </tr>\n",
              "  </tbody>\n",
              "</table>\n",
              "</div>"
            ],
            "text/plain": [
              "           agree_id         amount   person_id_x      status_id  \\\n",
              "count  1.619550e+05  161951.000000  1.619510e+05  161951.000000   \n",
              "mean   1.401169e+06   -1380.603708  1.927744e+06      60.576310   \n",
              "std    1.745184e+04   26013.783300  4.595645e+05       1.148726   \n",
              "min    1.372926e+06 -168000.000000  5.930000e+02      59.000000   \n",
              "25%    1.386500e+06  -17780.000000  1.836525e+06      60.000000   \n",
              "50%    1.399863e+06    1686.776000  2.113558e+06      60.000000   \n",
              "75%    1.414693e+06   12894.000000  2.213616e+06      62.000000   \n",
              "max    1.439191e+06  108458.000000  2.300950e+06      62.000000   \n",
              "\n",
              "          loan_money      loan_days  daily_percent  agree_status_id  \\\n",
              "count  161955.000000  161955.000000  161955.000000    161955.000000   \n",
              "mean    28927.550245      61.476835       2.799714        18.771887   \n",
              "std     14536.350012      21.067964       0.013868         0.936783   \n",
              "min      1400.000000      14.000000       2.128000        12.000000   \n",
              "25%     17780.000000      42.000000       2.800000        19.000000   \n",
              "50%     23380.000000      56.000000       2.800000        19.000000   \n",
              "75%     37380.000000      84.000000       2.800000        19.000000   \n",
              "max    168000.000000     352.800000       2.800000        20.000000   \n",
              "\n",
              "       fact_loan_days  \n",
              "count   161955.000000  \n",
              "mean       108.851511  \n",
              "std         91.688708  \n",
              "min          0.000000  \n",
              "25%         39.200000  \n",
              "50%         84.000000  \n",
              "75%        159.600000  \n",
              "max        411.600000  "
            ]
          },
          "metadata": {
            "tags": []
          },
          "execution_count": 17
        }
      ]
    },
    {
      "cell_type": "code",
      "metadata": {
        "id": "P9AUmgo4Np8s",
        "outputId": "5bfc7c5b-2def-4889-a6e6-34454d7d83ce"
      },
      "source": [
        "df['date_create_transaction'].describe()\n",
        "#в нашем распоряжении данные за период с 2020-06-01 06:36:18 по 2020-10-26 14:08:29.\n",
        "#это значит, что будут договора, заключенные ранее первой даты предоставленных данных(их мы уже исключили)\n",
        "#и будут договора, заключенные в последние даты нашего периода, но по ним не проводились операции."
      ],
      "execution_count": null,
      "outputs": [
        {
          "output_type": "execute_result",
          "data": {
            "text/plain": [
              "count                  161951\n",
              "unique                 158932\n",
              "top       2020-09-27 15:23:00\n",
              "freq                        4\n",
              "first     2020-06-01 06:36:18\n",
              "last      2020-10-26 14:08:29\n",
              "Name: date_create_transaction, dtype: object"
            ]
          },
          "metadata": {
            "tags": []
          },
          "execution_count": 18
        }
      ]
    },
    {
      "cell_type": "code",
      "metadata": {
        "id": "hS5pzieYNp8t",
        "outputId": "4a0a4804-5ac2-47fd-c098-c35f707afa82"
      },
      "source": [
        "df[df['amount'].isnull()]#договора подписаны , но данные не внесены или операций по счету нет. \n",
        "#Их не стоит учитывать при анализе."
      ],
      "execution_count": null,
      "outputs": [
        {
          "output_type": "execute_result",
          "data": {
            "text/html": [
              "<div>\n",
              "<style scoped>\n",
              "    .dataframe tbody tr th:only-of-type {\n",
              "        vertical-align: middle;\n",
              "    }\n",
              "\n",
              "    .dataframe tbody tr th {\n",
              "        vertical-align: top;\n",
              "    }\n",
              "\n",
              "    .dataframe thead th {\n",
              "        text-align: right;\n",
              "    }\n",
              "</style>\n",
              "<table border=\"1\" class=\"dataframe\">\n",
              "  <thead>\n",
              "    <tr style=\"text-align: right;\">\n",
              "      <th></th>\n",
              "      <th>agree_id</th>\n",
              "      <th>date_create_transaction</th>\n",
              "      <th>amount</th>\n",
              "      <th>person_id_x</th>\n",
              "      <th>status_id</th>\n",
              "      <th>loan_money</th>\n",
              "      <th>loan_days</th>\n",
              "      <th>date_create</th>\n",
              "      <th>daily_percent</th>\n",
              "      <th>agree_status_id</th>\n",
              "      <th>fact_loan_days</th>\n",
              "    </tr>\n",
              "  </thead>\n",
              "  <tbody>\n",
              "    <tr>\n",
              "      <td>161951</td>\n",
              "      <td>1438395</td>\n",
              "      <td>NaT</td>\n",
              "      <td>NaN</td>\n",
              "      <td>NaN</td>\n",
              "      <td>NaN</td>\n",
              "      <td>56980</td>\n",
              "      <td>84.0</td>\n",
              "      <td>2020-10-24 19:01:57</td>\n",
              "      <td>2.8</td>\n",
              "      <td>12</td>\n",
              "      <td>0.0</td>\n",
              "    </tr>\n",
              "    <tr>\n",
              "      <td>161952</td>\n",
              "      <td>1438747</td>\n",
              "      <td>NaT</td>\n",
              "      <td>NaN</td>\n",
              "      <td>NaN</td>\n",
              "      <td>NaN</td>\n",
              "      <td>34580</td>\n",
              "      <td>42.0</td>\n",
              "      <td>2020-10-25 14:53:31</td>\n",
              "      <td>2.8</td>\n",
              "      <td>12</td>\n",
              "      <td>0.0</td>\n",
              "    </tr>\n",
              "    <tr>\n",
              "      <td>161953</td>\n",
              "      <td>1438991</td>\n",
              "      <td>NaT</td>\n",
              "      <td>NaN</td>\n",
              "      <td>NaN</td>\n",
              "      <td>NaN</td>\n",
              "      <td>40180</td>\n",
              "      <td>56.0</td>\n",
              "      <td>2020-10-26 08:07:14</td>\n",
              "      <td>2.8</td>\n",
              "      <td>12</td>\n",
              "      <td>0.0</td>\n",
              "    </tr>\n",
              "    <tr>\n",
              "      <td>161954</td>\n",
              "      <td>1435798</td>\n",
              "      <td>NaT</td>\n",
              "      <td>NaN</td>\n",
              "      <td>NaN</td>\n",
              "      <td>NaN</td>\n",
              "      <td>23380</td>\n",
              "      <td>84.0</td>\n",
              "      <td>2020-10-19 22:35:48</td>\n",
              "      <td>2.8</td>\n",
              "      <td>12</td>\n",
              "      <td>0.0</td>\n",
              "    </tr>\n",
              "  </tbody>\n",
              "</table>\n",
              "</div>"
            ],
            "text/plain": [
              "        agree_id date_create_transaction  amount  person_id_x  status_id  \\\n",
              "161951   1438395                     NaT     NaN          NaN        NaN   \n",
              "161952   1438747                     NaT     NaN          NaN        NaN   \n",
              "161953   1438991                     NaT     NaN          NaN        NaN   \n",
              "161954   1435798                     NaT     NaN          NaN        NaN   \n",
              "\n",
              "        loan_money  loan_days         date_create  daily_percent  \\\n",
              "161951       56980       84.0 2020-10-24 19:01:57            2.8   \n",
              "161952       34580       42.0 2020-10-25 14:53:31            2.8   \n",
              "161953       40180       56.0 2020-10-26 08:07:14            2.8   \n",
              "161954       23380       84.0 2020-10-19 22:35:48            2.8   \n",
              "\n",
              "        agree_status_id  fact_loan_days  \n",
              "161951               12             0.0  \n",
              "161952               12             0.0  \n",
              "161953               12             0.0  \n",
              "161954               12             0.0  "
            ]
          },
          "metadata": {
            "tags": []
          },
          "execution_count": 19
        }
      ]
    },
    {
      "cell_type": "code",
      "metadata": {
        "id": "Gq2zz3bLNp8t"
      },
      "source": [
        "df.dropna(subset = ['amount'], inplace = True)"
      ],
      "execution_count": null,
      "outputs": []
    },
    {
      "cell_type": "code",
      "metadata": {
        "id": "aISfyVOkNp8u",
        "outputId": "0634c17b-8f1d-4492-c75d-805ed5f95090"
      },
      "source": [
        "df.query('status_id == (59) and amount < 0')\n",
        "#во всех строках, в которых status_id не является стандартным значением(а именно 60 или 62),\n",
        "#сумма произведенной операции положительная. А это значит, что все их можно отнести к погашению займа(60)"
      ],
      "execution_count": null,
      "outputs": [
        {
          "output_type": "execute_result",
          "data": {
            "text/html": [
              "<div>\n",
              "<style scoped>\n",
              "    .dataframe tbody tr th:only-of-type {\n",
              "        vertical-align: middle;\n",
              "    }\n",
              "\n",
              "    .dataframe tbody tr th {\n",
              "        vertical-align: top;\n",
              "    }\n",
              "\n",
              "    .dataframe thead th {\n",
              "        text-align: right;\n",
              "    }\n",
              "</style>\n",
              "<table border=\"1\" class=\"dataframe\">\n",
              "  <thead>\n",
              "    <tr style=\"text-align: right;\">\n",
              "      <th></th>\n",
              "      <th>agree_id</th>\n",
              "      <th>date_create_transaction</th>\n",
              "      <th>amount</th>\n",
              "      <th>person_id_x</th>\n",
              "      <th>status_id</th>\n",
              "      <th>loan_money</th>\n",
              "      <th>loan_days</th>\n",
              "      <th>date_create</th>\n",
              "      <th>daily_percent</th>\n",
              "      <th>agree_status_id</th>\n",
              "      <th>fact_loan_days</th>\n",
              "    </tr>\n",
              "  </thead>\n",
              "  <tbody>\n",
              "  </tbody>\n",
              "</table>\n",
              "</div>"
            ],
            "text/plain": [
              "Empty DataFrame\n",
              "Columns: [agree_id, date_create_transaction, amount, person_id_x, status_id, loan_money, loan_days, date_create, daily_percent, agree_status_id, fact_loan_days]\n",
              "Index: []"
            ]
          },
          "metadata": {
            "tags": []
          },
          "execution_count": 21
        }
      ]
    },
    {
      "cell_type": "code",
      "metadata": {
        "id": "H_QppbtpNp8v"
      },
      "source": [
        "df['status_id'].replace((59), 60, inplace=True)#заменил нестандартные значения"
      ],
      "execution_count": null,
      "outputs": []
    },
    {
      "cell_type": "code",
      "metadata": {
        "id": "Quz43ExWNp8v"
      },
      "source": [
        "df.duplicated().sum()\n",
        "df.drop_duplicates(inplace=True)\n",
        "#удалим полные дубликаты"
      ],
      "execution_count": null,
      "outputs": []
    },
    {
      "cell_type": "code",
      "metadata": {
        "id": "Th64xxQxNp8w",
        "outputId": "04f0111c-fb40-478c-ae9b-f928e7fffc3b"
      },
      "source": [
        "df.query('person_id_x == 2138029 and agree_id == 1399898').head()\n",
        "#но по факту бывают вот такие ситуации. ложная фиксация выдачи денег.\n",
        "#похоже, именно они и дают отрицательную среднюю по amount\n",
        "#возможно, сбой в системе: стоит обратить на это внимание ответственных за этот этап."
      ],
      "execution_count": null,
      "outputs": [
        {
          "output_type": "execute_result",
          "data": {
            "text/html": [
              "<div>\n",
              "<style scoped>\n",
              "    .dataframe tbody tr th:only-of-type {\n",
              "        vertical-align: middle;\n",
              "    }\n",
              "\n",
              "    .dataframe tbody tr th {\n",
              "        vertical-align: top;\n",
              "    }\n",
              "\n",
              "    .dataframe thead th {\n",
              "        text-align: right;\n",
              "    }\n",
              "</style>\n",
              "<table border=\"1\" class=\"dataframe\">\n",
              "  <thead>\n",
              "    <tr style=\"text-align: right;\">\n",
              "      <th></th>\n",
              "      <th>agree_id</th>\n",
              "      <th>date_create_transaction</th>\n",
              "      <th>amount</th>\n",
              "      <th>person_id_x</th>\n",
              "      <th>status_id</th>\n",
              "      <th>loan_money</th>\n",
              "      <th>loan_days</th>\n",
              "      <th>date_create</th>\n",
              "      <th>daily_percent</th>\n",
              "      <th>agree_status_id</th>\n",
              "      <th>fact_loan_days</th>\n",
              "    </tr>\n",
              "  </thead>\n",
              "  <tbody>\n",
              "    <tr>\n",
              "      <td>80973</td>\n",
              "      <td>1399898</td>\n",
              "      <td>2020-08-07 04:04:25</td>\n",
              "      <td>-56980.0</td>\n",
              "      <td>2138029.0</td>\n",
              "      <td>62.0</td>\n",
              "      <td>56980</td>\n",
              "      <td>84.0</td>\n",
              "      <td>2020-08-07 04:03:32</td>\n",
              "      <td>2.8</td>\n",
              "      <td>19</td>\n",
              "      <td>78.4</td>\n",
              "    </tr>\n",
              "    <tr>\n",
              "      <td>80974</td>\n",
              "      <td>1399898</td>\n",
              "      <td>2020-08-07 04:06:26</td>\n",
              "      <td>-56980.0</td>\n",
              "      <td>2138029.0</td>\n",
              "      <td>62.0</td>\n",
              "      <td>56980</td>\n",
              "      <td>84.0</td>\n",
              "      <td>2020-08-07 04:03:32</td>\n",
              "      <td>2.8</td>\n",
              "      <td>19</td>\n",
              "      <td>78.4</td>\n",
              "    </tr>\n",
              "    <tr>\n",
              "      <td>80975</td>\n",
              "      <td>1399898</td>\n",
              "      <td>2020-08-07 04:08:28</td>\n",
              "      <td>-56980.0</td>\n",
              "      <td>2138029.0</td>\n",
              "      <td>62.0</td>\n",
              "      <td>56980</td>\n",
              "      <td>84.0</td>\n",
              "      <td>2020-08-07 04:03:32</td>\n",
              "      <td>2.8</td>\n",
              "      <td>19</td>\n",
              "      <td>78.4</td>\n",
              "    </tr>\n",
              "    <tr>\n",
              "      <td>80976</td>\n",
              "      <td>1399898</td>\n",
              "      <td>2020-08-07 05:00:36</td>\n",
              "      <td>-56980.0</td>\n",
              "      <td>2138029.0</td>\n",
              "      <td>62.0</td>\n",
              "      <td>56980</td>\n",
              "      <td>84.0</td>\n",
              "      <td>2020-08-07 04:03:32</td>\n",
              "      <td>2.8</td>\n",
              "      <td>19</td>\n",
              "      <td>78.4</td>\n",
              "    </tr>\n",
              "    <tr>\n",
              "      <td>80977</td>\n",
              "      <td>1399898</td>\n",
              "      <td>2020-08-07 06:15:15</td>\n",
              "      <td>-56980.0</td>\n",
              "      <td>2138029.0</td>\n",
              "      <td>62.0</td>\n",
              "      <td>56980</td>\n",
              "      <td>84.0</td>\n",
              "      <td>2020-08-07 04:03:32</td>\n",
              "      <td>2.8</td>\n",
              "      <td>19</td>\n",
              "      <td>78.4</td>\n",
              "    </tr>\n",
              "  </tbody>\n",
              "</table>\n",
              "</div>"
            ],
            "text/plain": [
              "       agree_id date_create_transaction   amount  person_id_x  status_id  \\\n",
              "80973   1399898     2020-08-07 04:04:25 -56980.0    2138029.0       62.0   \n",
              "80974   1399898     2020-08-07 04:06:26 -56980.0    2138029.0       62.0   \n",
              "80975   1399898     2020-08-07 04:08:28 -56980.0    2138029.0       62.0   \n",
              "80976   1399898     2020-08-07 05:00:36 -56980.0    2138029.0       62.0   \n",
              "80977   1399898     2020-08-07 06:15:15 -56980.0    2138029.0       62.0   \n",
              "\n",
              "       loan_money  loan_days         date_create  daily_percent  \\\n",
              "80973       56980       84.0 2020-08-07 04:03:32            2.8   \n",
              "80974       56980       84.0 2020-08-07 04:03:32            2.8   \n",
              "80975       56980       84.0 2020-08-07 04:03:32            2.8   \n",
              "80976       56980       84.0 2020-08-07 04:03:32            2.8   \n",
              "80977       56980       84.0 2020-08-07 04:03:32            2.8   \n",
              "\n",
              "       agree_status_id  fact_loan_days  \n",
              "80973               19            78.4  \n",
              "80974               19            78.4  \n",
              "80975               19            78.4  \n",
              "80976               19            78.4  \n",
              "80977               19            78.4  "
            ]
          },
          "metadata": {
            "tags": []
          },
          "execution_count": 24
        }
      ]
    },
    {
      "cell_type": "code",
      "metadata": {
        "id": "qRSchRraNp8x",
        "outputId": "c643810c-fddc-494e-9a8d-4c0f555f54fc"
      },
      "source": [
        "df.duplicated(['date_create','agree_id', 'status_id', 'amount']).sum()\n",
        "#и таких случаев не мало"
      ],
      "execution_count": null,
      "outputs": [
        {
          "output_type": "execute_result",
          "data": {
            "text/plain": [
              "10729"
            ]
          },
          "metadata": {
            "tags": []
          },
          "execution_count": 25
        }
      ]
    },
    {
      "cell_type": "code",
      "metadata": {
        "id": "zIR94gegNp8x"
      },
      "source": [
        "#удалим их \n",
        "df.drop_duplicates(['date_create','agree_id', 'status_id', 'amount'], inplace=True)"
      ],
      "execution_count": null,
      "outputs": []
    },
    {
      "cell_type": "code",
      "metadata": {
        "id": "_OOrtZ9hNp8y",
        "outputId": "ebea152a-8307-44a5-bca8-7d067d94c112"
      },
      "source": [
        "df.query('agree_status_id == (12,13,16,17)').head()\n",
        "#это те договора, которые на момент выгрузки данных действуют.\n",
        "#т.е. по ним не известен финальный рузультат.\n",
        "#в основном это длительные договора или заключенные недавно от момента выгрузки данных.\n",
        "#они не пригодятся нам в задании.\n",
        "\n",
        "#видно, что в fact_loan_days есть некорректные занчения\n",
        "#кредит взят в июне 2020 г, а в строке его длительности по факту указано 403 дня."
      ],
      "execution_count": null,
      "outputs": [
        {
          "output_type": "execute_result",
          "data": {
            "text/html": [
              "<div>\n",
              "<style scoped>\n",
              "    .dataframe tbody tr th:only-of-type {\n",
              "        vertical-align: middle;\n",
              "    }\n",
              "\n",
              "    .dataframe tbody tr th {\n",
              "        vertical-align: top;\n",
              "    }\n",
              "\n",
              "    .dataframe thead th {\n",
              "        text-align: right;\n",
              "    }\n",
              "</style>\n",
              "<table border=\"1\" class=\"dataframe\">\n",
              "  <thead>\n",
              "    <tr style=\"text-align: right;\">\n",
              "      <th></th>\n",
              "      <th>agree_id</th>\n",
              "      <th>date_create_transaction</th>\n",
              "      <th>amount</th>\n",
              "      <th>person_id_x</th>\n",
              "      <th>status_id</th>\n",
              "      <th>loan_money</th>\n",
              "      <th>loan_days</th>\n",
              "      <th>date_create</th>\n",
              "      <th>daily_percent</th>\n",
              "      <th>agree_status_id</th>\n",
              "      <th>fact_loan_days</th>\n",
              "    </tr>\n",
              "  </thead>\n",
              "  <tbody>\n",
              "    <tr>\n",
              "      <td>3700</td>\n",
              "      <td>1374187</td>\n",
              "      <td>2020-06-04 08:41:03</td>\n",
              "      <td>-17780.0</td>\n",
              "      <td>2015402.0</td>\n",
              "      <td>62.0</td>\n",
              "      <td>17780</td>\n",
              "      <td>84.0</td>\n",
              "      <td>2020-06-04 08:12:32</td>\n",
              "      <td>2.8</td>\n",
              "      <td>17</td>\n",
              "      <td>403.2</td>\n",
              "    </tr>\n",
              "    <tr>\n",
              "      <td>3701</td>\n",
              "      <td>1374187</td>\n",
              "      <td>2020-07-24 02:47:25</td>\n",
              "      <td>8890.0</td>\n",
              "      <td>2015402.0</td>\n",
              "      <td>60.0</td>\n",
              "      <td>17780</td>\n",
              "      <td>84.0</td>\n",
              "      <td>2020-06-04 08:12:32</td>\n",
              "      <td>2.8</td>\n",
              "      <td>17</td>\n",
              "      <td>403.2</td>\n",
              "    </tr>\n",
              "    <tr>\n",
              "      <td>3702</td>\n",
              "      <td>1374187</td>\n",
              "      <td>2020-08-25 19:21:04</td>\n",
              "      <td>5689.6</td>\n",
              "      <td>2015402.0</td>\n",
              "      <td>60.0</td>\n",
              "      <td>17780</td>\n",
              "      <td>84.0</td>\n",
              "      <td>2020-06-04 08:12:32</td>\n",
              "      <td>2.8</td>\n",
              "      <td>17</td>\n",
              "      <td>403.2</td>\n",
              "    </tr>\n",
              "    <tr>\n",
              "      <td>3703</td>\n",
              "      <td>1374187</td>\n",
              "      <td>2020-09-12 11:49:47</td>\n",
              "      <td>3200.4</td>\n",
              "      <td>2015402.0</td>\n",
              "      <td>60.0</td>\n",
              "      <td>17780</td>\n",
              "      <td>84.0</td>\n",
              "      <td>2020-06-04 08:12:32</td>\n",
              "      <td>2.8</td>\n",
              "      <td>17</td>\n",
              "      <td>403.2</td>\n",
              "    </tr>\n",
              "    <tr>\n",
              "      <td>3704</td>\n",
              "      <td>1374187</td>\n",
              "      <td>2020-09-29 14:48:17</td>\n",
              "      <td>3022.6</td>\n",
              "      <td>2015402.0</td>\n",
              "      <td>60.0</td>\n",
              "      <td>17780</td>\n",
              "      <td>84.0</td>\n",
              "      <td>2020-06-04 08:12:32</td>\n",
              "      <td>2.8</td>\n",
              "      <td>17</td>\n",
              "      <td>403.2</td>\n",
              "    </tr>\n",
              "  </tbody>\n",
              "</table>\n",
              "</div>"
            ],
            "text/plain": [
              "      agree_id date_create_transaction   amount  person_id_x  status_id  \\\n",
              "3700   1374187     2020-06-04 08:41:03 -17780.0    2015402.0       62.0   \n",
              "3701   1374187     2020-07-24 02:47:25   8890.0    2015402.0       60.0   \n",
              "3702   1374187     2020-08-25 19:21:04   5689.6    2015402.0       60.0   \n",
              "3703   1374187     2020-09-12 11:49:47   3200.4    2015402.0       60.0   \n",
              "3704   1374187     2020-09-29 14:48:17   3022.6    2015402.0       60.0   \n",
              "\n",
              "      loan_money  loan_days         date_create  daily_percent  \\\n",
              "3700       17780       84.0 2020-06-04 08:12:32            2.8   \n",
              "3701       17780       84.0 2020-06-04 08:12:32            2.8   \n",
              "3702       17780       84.0 2020-06-04 08:12:32            2.8   \n",
              "3703       17780       84.0 2020-06-04 08:12:32            2.8   \n",
              "3704       17780       84.0 2020-06-04 08:12:32            2.8   \n",
              "\n",
              "      agree_status_id  fact_loan_days  \n",
              "3700               17           403.2  \n",
              "3701               17           403.2  \n",
              "3702               17           403.2  \n",
              "3703               17           403.2  \n",
              "3704               17           403.2  "
            ]
          },
          "metadata": {
            "tags": []
          },
          "execution_count": 27
        }
      ]
    },
    {
      "cell_type": "code",
      "metadata": {
        "id": "yrHi5ICuNp8z"
      },
      "source": [
        "df.drop(df.query('agree_status_id == (12,13,16,17)').index, inplace=True)"
      ],
      "execution_count": null,
      "outputs": []
    },
    {
      "cell_type": "code",
      "metadata": {
        "id": "Imn2IHCJNp8z"
      },
      "source": [
        "#вот ещё проблемные значения.\n",
        "#в них выданная сумма превышает одобренную.\n",
        "#в связи с этим происходит уточнение выданной суммы и появляется повторная запись о выдаче.\n",
        "#29 значений\n",
        "\n",
        "drop_index = df[df['status_id'] == 62].loc[df[df['status_id'] == 62].duplicated(['date_create','agree_id', 'status_id'], \\\n",
        "                                                                                keep='last')].index\n",
        "df.drop(drop_index, inplace=True)"
      ],
      "execution_count": null,
      "outputs": []
    },
    {
      "cell_type": "code",
      "metadata": {
        "id": "itDALdYPNp80",
        "outputId": "289a7be6-b529-4624-ad31-7b931ca2fba8"
      },
      "source": [
        "df.describe()\n",
        "#так лучше\n",
        "#23815 уникальных клиентов\n",
        "#47355 уникальных договоров"
      ],
      "execution_count": null,
      "outputs": [
        {
          "output_type": "execute_result",
          "data": {
            "text/html": [
              "<div>\n",
              "<style scoped>\n",
              "    .dataframe tbody tr th:only-of-type {\n",
              "        vertical-align: middle;\n",
              "    }\n",
              "\n",
              "    .dataframe tbody tr th {\n",
              "        vertical-align: top;\n",
              "    }\n",
              "\n",
              "    .dataframe thead th {\n",
              "        text-align: right;\n",
              "    }\n",
              "</style>\n",
              "<table border=\"1\" class=\"dataframe\">\n",
              "  <thead>\n",
              "    <tr style=\"text-align: right;\">\n",
              "      <th></th>\n",
              "      <th>agree_id</th>\n",
              "      <th>amount</th>\n",
              "      <th>person_id_x</th>\n",
              "      <th>status_id</th>\n",
              "      <th>loan_money</th>\n",
              "      <th>loan_days</th>\n",
              "      <th>daily_percent</th>\n",
              "      <th>agree_status_id</th>\n",
              "      <th>fact_loan_days</th>\n",
              "    </tr>\n",
              "  </thead>\n",
              "  <tbody>\n",
              "    <tr>\n",
              "      <td>count</td>\n",
              "      <td>1.301510e+05</td>\n",
              "      <td>130151.000000</td>\n",
              "      <td>1.301510e+05</td>\n",
              "      <td>130151.000000</td>\n",
              "      <td>130151.000000</td>\n",
              "      <td>130151.000000</td>\n",
              "      <td>130151.000000</td>\n",
              "      <td>130151.000000</td>\n",
              "      <td>130151.000000</td>\n",
              "    </tr>\n",
              "    <tr>\n",
              "      <td>mean</td>\n",
              "      <td>1.398650e+06</td>\n",
              "      <td>733.557659</td>\n",
              "      <td>1.935424e+06</td>\n",
              "      <td>60.727693</td>\n",
              "      <td>28139.435271</td>\n",
              "      <td>60.642328</td>\n",
              "      <td>2.799933</td>\n",
              "      <td>19.114767</td>\n",
              "      <td>102.857527</td>\n",
              "    </tr>\n",
              "    <tr>\n",
              "      <td>std</td>\n",
              "      <td>1.629298e+04</td>\n",
              "      <td>26790.697855</td>\n",
              "      <td>4.508364e+05</td>\n",
              "      <td>0.962214</td>\n",
              "      <td>14044.979395</td>\n",
              "      <td>20.411361</td>\n",
              "      <td>0.006716</td>\n",
              "      <td>0.318741</td>\n",
              "      <td>90.173810</td>\n",
              "    </tr>\n",
              "    <tr>\n",
              "      <td>min</td>\n",
              "      <td>1.372926e+06</td>\n",
              "      <td>-168000.000000</td>\n",
              "      <td>5.930000e+02</td>\n",
              "      <td>60.000000</td>\n",
              "      <td>1400.000000</td>\n",
              "      <td>14.000000</td>\n",
              "      <td>2.128000</td>\n",
              "      <td>19.000000</td>\n",
              "      <td>0.000000</td>\n",
              "    </tr>\n",
              "    <tr>\n",
              "      <td>25%</td>\n",
              "      <td>1.384816e+06</td>\n",
              "      <td>-17780.000000</td>\n",
              "      <td>1.845944e+06</td>\n",
              "      <td>60.000000</td>\n",
              "      <td>17780.000000</td>\n",
              "      <td>42.000000</td>\n",
              "      <td>2.800000</td>\n",
              "      <td>19.000000</td>\n",
              "      <td>39.200000</td>\n",
              "    </tr>\n",
              "    <tr>\n",
              "      <td>50%</td>\n",
              "      <td>1.397136e+06</td>\n",
              "      <td>2433.648000</td>\n",
              "      <td>2.117803e+06</td>\n",
              "      <td>60.000000</td>\n",
              "      <td>23380.000000</td>\n",
              "      <td>53.200000</td>\n",
              "      <td>2.800000</td>\n",
              "      <td>19.000000</td>\n",
              "      <td>78.400000</td>\n",
              "    </tr>\n",
              "    <tr>\n",
              "      <td>75%</td>\n",
              "      <td>1.411303e+06</td>\n",
              "      <td>17292.702000</td>\n",
              "      <td>2.213162e+06</td>\n",
              "      <td>62.000000</td>\n",
              "      <td>34580.000000</td>\n",
              "      <td>84.000000</td>\n",
              "      <td>2.800000</td>\n",
              "      <td>19.000000</td>\n",
              "      <td>142.800000</td>\n",
              "    </tr>\n",
              "    <tr>\n",
              "      <td>max</td>\n",
              "      <td>1.439082e+06</td>\n",
              "      <td>108458.000000</td>\n",
              "      <td>2.300439e+06</td>\n",
              "      <td>62.000000</td>\n",
              "      <td>168000.000000</td>\n",
              "      <td>352.800000</td>\n",
              "      <td>2.800000</td>\n",
              "      <td>20.000000</td>\n",
              "      <td>411.600000</td>\n",
              "    </tr>\n",
              "  </tbody>\n",
              "</table>\n",
              "</div>"
            ],
            "text/plain": [
              "           agree_id         amount   person_id_x      status_id  \\\n",
              "count  1.301510e+05  130151.000000  1.301510e+05  130151.000000   \n",
              "mean   1.398650e+06     733.557659  1.935424e+06      60.727693   \n",
              "std    1.629298e+04   26790.697855  4.508364e+05       0.962214   \n",
              "min    1.372926e+06 -168000.000000  5.930000e+02      60.000000   \n",
              "25%    1.384816e+06  -17780.000000  1.845944e+06      60.000000   \n",
              "50%    1.397136e+06    2433.648000  2.117803e+06      60.000000   \n",
              "75%    1.411303e+06   17292.702000  2.213162e+06      62.000000   \n",
              "max    1.439082e+06  108458.000000  2.300439e+06      62.000000   \n",
              "\n",
              "          loan_money      loan_days  daily_percent  agree_status_id  \\\n",
              "count  130151.000000  130151.000000  130151.000000    130151.000000   \n",
              "mean    28139.435271      60.642328       2.799933        19.114767   \n",
              "std     14044.979395      20.411361       0.006716         0.318741   \n",
              "min      1400.000000      14.000000       2.128000        19.000000   \n",
              "25%     17780.000000      42.000000       2.800000        19.000000   \n",
              "50%     23380.000000      53.200000       2.800000        19.000000   \n",
              "75%     34580.000000      84.000000       2.800000        19.000000   \n",
              "max    168000.000000     352.800000       2.800000        20.000000   \n",
              "\n",
              "       fact_loan_days  \n",
              "count   130151.000000  \n",
              "mean       102.857527  \n",
              "std         90.173810  \n",
              "min          0.000000  \n",
              "25%         39.200000  \n",
              "50%         78.400000  \n",
              "75%        142.800000  \n",
              "max        411.600000  "
            ]
          },
          "metadata": {
            "tags": []
          },
          "execution_count": 30
        }
      ]
    },
    {
      "cell_type": "markdown",
      "metadata": {
        "id": "ya7WURD8Np80"
      },
      "source": [
        "Из того , что осталось:\n",
        "    - fact_loan_days, loan_days лучше перевести в целые дни.\n",
        "    - значения в fact_loan_days не совпадают с временным промежутком от взятия денег клиентом до полного погашения долга.\n",
        "    - значения начисляемого % не совпадало с суммой возвращаемых денег.\n",
        "    "
      ]
    },
    {
      "cell_type": "markdown",
      "metadata": {
        "id": "-sXo9gu9Np81"
      },
      "source": [
        "## 2. Вычислите кол-во закрытых и открытых договоров за весь данный период (операции должны покрывать друг друга);\n",
        "<a name=\"9.\"></a>\n",
        "[<font size=\"2\">(к содержанию)</font>](#1common.)"
      ]
    },
    {
      "cell_type": "markdown",
      "metadata": {
        "id": "w4wHVp8uNp81"
      },
      "source": [
        "**уникальных договоров за период, в нашем случае оно равно количеству открытых**"
      ]
    },
    {
      "cell_type": "code",
      "metadata": {
        "id": "PmnUR1GBNp82",
        "outputId": "fb3c71da-faab-4a07-c815-1172e88a147a"
      },
      "source": [
        "print(\" {:} уникальных договоров за период\"\\\n",
        "      .format(len(df['agree_id'].unique())))"
      ],
      "execution_count": null,
      "outputs": [
        {
          "output_type": "stream",
          "text": [
            " 47355 уникальных договоров за период\n"
          ],
          "name": "stdout"
        }
      ]
    },
    {
      "cell_type": "code",
      "metadata": {
        "id": "hxBNPnbpNp82",
        "outputId": "ff6d6c08-af25-4b48-cec7-f616dc601905"
      },
      "source": [
        "#перепроверка\n",
        "df['status_id'].value_counts()#перепроверка"
      ],
      "execution_count": null,
      "outputs": [
        {
          "output_type": "execute_result",
          "data": {
            "text/plain": [
              "60.0    82796\n",
              "62.0    47355\n",
              "Name: status_id, dtype: int64"
            ]
          },
          "metadata": {
            "tags": []
          },
          "execution_count": 32
        }
      ]
    },
    {
      "cell_type": "markdown",
      "metadata": {
        "id": "4z54s4X2Np83"
      },
      "source": [
        "**кол-во закрытых договоров**"
      ]
    },
    {
      "cell_type": "code",
      "metadata": {
        "id": "20X9iS8jNp83",
        "outputId": "8c4be7e3-a287-4427-86cf-12f8e12ee2b9"
      },
      "source": [
        "print(\" {:} закрытых договора\"\\\n",
        "      .format(len(df['agree_id'].unique())- len(df[df['agree_status_id'] == 20]['agree_id'].unique())))"
      ],
      "execution_count": null,
      "outputs": [
        {
          "output_type": "stream",
          "text": [
            " 40414 закрытых договора\n"
          ],
          "name": "stdout"
        }
      ]
    },
    {
      "cell_type": "markdown",
      "metadata": {
        "id": "6FJxb6lFNp84"
      },
      "source": [
        "**договора на просрочке**"
      ]
    },
    {
      "cell_type": "code",
      "metadata": {
        "id": "n_Kq4AQPNp84",
        "outputId": "6476e360-413c-4d31-eb00-e129903cc77c"
      },
      "source": [
        "print(\" {:} договора на просрочке\"\\\n",
        "      .format(len(df[df['agree_status_id'] == 20]['agree_id'].unique())))"
      ],
      "execution_count": null,
      "outputs": [
        {
          "output_type": "stream",
          "text": [
            " 6941 договора на просрочке\n"
          ],
          "name": "stdout"
        }
      ]
    },
    {
      "cell_type": "code",
      "metadata": {
        "id": "Uasr6lVNNp85"
      },
      "source": [
        "contracts = pd.DataFrame({'уникальных договоров за период' : [len(df['agree_id'].unique())],\n",
        "                   'кол-во закрытых договоров' : [len(df['agree_id'].unique())- len(df[df['agree_status_id'] == 20]\\\n",
        "                                                                                   ['agree_id'].unique())],\n",
        "                         'договора на просрочке': [len(df[df['agree_status_id'] == 20]['agree_id'].unique())]})"
      ],
      "execution_count": null,
      "outputs": []
    },
    {
      "cell_type": "code",
      "metadata": {
        "id": "JeA1iG7bNp86",
        "outputId": "7c843049-c007-4c58-ec88-91527fa1fe15"
      },
      "source": [
        "contracts"
      ],
      "execution_count": null,
      "outputs": [
        {
          "output_type": "execute_result",
          "data": {
            "text/html": [
              "<div>\n",
              "<style scoped>\n",
              "    .dataframe tbody tr th:only-of-type {\n",
              "        vertical-align: middle;\n",
              "    }\n",
              "\n",
              "    .dataframe tbody tr th {\n",
              "        vertical-align: top;\n",
              "    }\n",
              "\n",
              "    .dataframe thead th {\n",
              "        text-align: right;\n",
              "    }\n",
              "</style>\n",
              "<table border=\"1\" class=\"dataframe\">\n",
              "  <thead>\n",
              "    <tr style=\"text-align: right;\">\n",
              "      <th></th>\n",
              "      <th>уникальных договоров за период</th>\n",
              "      <th>кол-во закрытых договоров</th>\n",
              "      <th>договора на просрочке</th>\n",
              "    </tr>\n",
              "  </thead>\n",
              "  <tbody>\n",
              "    <tr>\n",
              "      <td>0</td>\n",
              "      <td>47355</td>\n",
              "      <td>40414</td>\n",
              "      <td>6941</td>\n",
              "    </tr>\n",
              "  </tbody>\n",
              "</table>\n",
              "</div>"
            ],
            "text/plain": [
              "   уникальных договоров за период  кол-во закрытых договоров  \\\n",
              "0                           47355                      40414   \n",
              "\n",
              "   договора на просрочке  \n",
              "0                   6941  "
            ]
          },
          "metadata": {
            "tags": []
          },
          "execution_count": 36
        }
      ]
    },
    {
      "cell_type": "code",
      "metadata": {
        "id": "cyw45Go1Np86",
        "outputId": "16712302-fea6-49e8-cae0-3539eb95fa92"
      },
      "source": [
        "vals = contracts[['кол-во закрытых договоров','договора на просрочке']].values\n",
        "labels = contracts[['кол-во закрытых договоров','договора на просрочке']].columns\n",
        "fig, ax = plt.subplots(figsize=(5, 5), dpi= 80)\n",
        "ax.pie(vals, labels=labels,autopct='%1.1f%%')\n",
        "ax.axis(\"equal\")"
      ],
      "execution_count": null,
      "outputs": [
        {
          "output_type": "stream",
          "text": [
            "/opt/conda/lib/python3.7/site-packages/ipykernel_launcher.py:4: MatplotlibDeprecationWarning: Non-1D inputs to pie() are currently squeeze()d, but this behavior is deprecated since 3.1 and will be removed in 3.3; pass a 1D array instead.\n",
            "  after removing the cwd from sys.path.\n"
          ],
          "name": "stderr"
        },
        {
          "output_type": "execute_result",
          "data": {
            "text/plain": [
              "(-1.1064610589207586,\n",
              " 1.1003076997152916,\n",
              " -1.1024943880442937,\n",
              " 1.1066429273595118)"
            ]
          },
          "metadata": {
            "tags": []
          },
          "execution_count": 37
        },
        {
          "output_type": "display_data",
          "data": {
            "image/png": "[encoded data removed]",
            "text/plain": [
              "<Figure size 400x400 with 1 Axes>"
            ]
          },
          "metadata": {
            "tags": []
          }
        }
      ]
    },
    {
      "cell_type": "markdown",
      "metadata": {
        "id": "SfLX1ahpNp87"
      },
      "source": [
        "## 3. Проведите оценку прибыли, которую получила компания в сравнение с тем, что выдали и что получили по уже закрытым договорам;\n",
        "<a name=\"8.\"></a>\n",
        "[<font size=\"2\">(к содержанию)</font>](#1common.)"
      ]
    },
    {
      "cell_type": "code",
      "metadata": {
        "id": "Agk7E1OQNp88"
      },
      "source": [
        "profit = df.groupby('agree_status_id').agg({'amount':['sum']})/1000000\n",
        "profit.columns  = profit.columns.droplevel(0)\n",
        "#сумма в миллионах"
      ],
      "execution_count": null,
      "outputs": []
    },
    {
      "cell_type": "code",
      "metadata": {
        "id": "OKFLYlW_Np88",
        "outputId": "79104d6c-8842-4e89-96cc-b3ade67b4576"
      },
      "source": [
        "print(\"Разница между выданным деньгами и полученными, за исключением просроченных договоров: {:.2f} млн.р\"\\\n",
        "      .format(profit['sum'].loc[19]))"
      ],
      "execution_count": null,
      "outputs": [
        {
          "output_type": "stream",
          "text": [
            "Разница между выданным деньгами и полученными, за исключением просроченных договоров: 250.65 млн.р\n"
          ],
          "name": "stdout"
        }
      ]
    },
    {
      "cell_type": "code",
      "metadata": {
        "id": "2Z-jUShwNp89",
        "outputId": "448bbe45-fe01-4079-9664-7dc45dc580a9"
      },
      "source": [
        "print(\"Убыток от просроченных договоров : {:.2f} млн.р\"\\\n",
        "      .format(profit['sum'].loc[20]))"
      ],
      "execution_count": null,
      "outputs": [
        {
          "output_type": "stream",
          "text": [
            "Убыток от просроченных договоров : -155.17 млн.р\n"
          ],
          "name": "stdout"
        }
      ]
    },
    {
      "cell_type": "code",
      "metadata": {
        "id": "u6VPu0qtNp8-",
        "outputId": "d7ba51c7-7e97-4368-daff-163e5faafb05"
      },
      "source": [
        "print(\"Доход за вычетом просроченных договоров : {:.2f} млн.р\"\\\n",
        "      .format(profit['sum'].loc[19] + profit['sum'].loc[20]))"
      ],
      "execution_count": null,
      "outputs": [
        {
          "output_type": "stream",
          "text": [
            "Доход за вычетом просроченных договоров : 95.47 млн.р\n"
          ],
          "name": "stdout"
        }
      ]
    },
    {
      "cell_type": "markdown",
      "metadata": {
        "id": "eunYkJ6aNp8-"
      },
      "source": [
        "## 4. Постройте три недельные когорты по следующим срезам:\n",
        "<a name=\"10.\"></a>\n",
        "[<font size=\"2\">(к содержанию)</font>](#1common.)"
      ]
    },
    {
      "cell_type": "markdown",
      "metadata": {
        "id": "gpZ7F7jXNp8_"
      },
      "source": [
        " **Количество выдач/заключенных договоров (сколько всего и на какие средние суммы);**\n",
        " <a name=\"11.\"></a>"
      ]
    },
    {
      "cell_type": "code",
      "metadata": {
        "id": "R3WJQ-FpNp8_"
      },
      "source": [
        "df['week'] = pd.DatetimeIndex(df['date_create_transaction']).week"
      ],
      "execution_count": null,
      "outputs": []
    },
    {
      "cell_type": "code",
      "metadata": {
        "id": "8r3S8R9fNp9A"
      },
      "source": [
        "concluded_contract = df.query('week ==(40,41,42) and status_id == 62').groupby('week').agg({'loan_money':['mean'],                  \n",
        "                                                                       'agree_id':['count']}).reset_index()\n",
        "\n",
        "concluded_contract.columns = concluded_contract.columns.droplevel(1)"
      ],
      "execution_count": null,
      "outputs": []
    },
    {
      "cell_type": "code",
      "metadata": {
        "id": "n_qc_OA0Np9B",
        "outputId": "c902e034-8db7-4900-dcbc-810ea8c9363a"
      },
      "source": [
        "concluded_contract.style.highlight_max(color='yellowgreen',subset=['loan_money', 'agree_id'])\\\n",
        "                        .highlight_min(color='coral', subset=['loan_money', 'agree_id'])\n",
        "print('Cколько всего заключено договоров и на какие средние суммы')"
      ],
      "execution_count": null,
      "outputs": [
        {
          "output_type": "stream",
          "text": [
            "Cколько всего заключено договоров и на какие средние суммы\n"
          ],
          "name": "stdout"
        }
      ]
    },
    {
      "cell_type": "markdown",
      "metadata": {
        "id": "k72nElWqNp9C"
      },
      "source": [
        " - На 30 неделе было заключено 1891 договоров на среднюю сумму в 23780.7р.\n",
        " - На 31 неделе средняя сумма договоров упала до 23691, а их количество составило 1646\n",
        " - На 32 неделе было заключено меньше всего договоров 816, но средняя сумма договора было максимальной за трехнедельный период 25496р.\n"
      ]
    },
    {
      "cell_type": "markdown",
      "metadata": {
        "id": "eDrrGj12Np9D"
      },
      "source": [
        "**Количество закрытых договоров (количество и средняя прибыль, которую компания получила с них по итогу);**\n",
        " <a name=\"12.\"></a>"
      ]
    },
    {
      "cell_type": "markdown",
      "metadata": {
        "id": "JxrB7dJfNp9F"
      },
      "source": [
        "Есть вопросы:\n",
        " - daily_percent - процент не бьется с суммами возврата долга и с сроками.\n",
        " - fact_loan_days - длительность договора по факту. Но похоже она не является длительностью пользования заемными средствами.\n",
        "     Это просто количество дней, прошедших на дату закрытия договора клиентом, а закрытие не равно дате погашения долга.\n",
        "      - Так, что мы должны найти ? \n",
        "       - Сколько договоров закрылось в этот период или когда заемщик полностью расчитался за кредит?\n",
        "      \n",
        "**Корректным будет искать договора где заемщик рассчитался за кредит и по ним вычеслить среднию прибыль.**\n",
        " <a name=\"13.\"></a>"
      ]
    },
    {
      "cell_type": "code",
      "metadata": {
        "id": "p-weL5JpNp9G"
      },
      "source": [
        "#финальные платежи по кредиту\n",
        "date_termination = df.groupby('agree_id').last().query('agree_status_id == 19').index"
      ],
      "execution_count": null,
      "outputs": []
    },
    {
      "cell_type": "code",
      "metadata": {
        "id": "OI1Dk5PmNp9G",
        "outputId": "1674dad2-bdf4-480e-97d9-f8e5a7ce9f19"
      },
      "source": [
        "closed_contracts = df.query('week ==(40,41,42) and agree_id in @date_termination').\\\n",
        "            pivot_table(index=['week', 'agree_id'], values='amount', aggfunc='sum').reset_index()\\\n",
        "                    .groupby('week').agg({'agree_id':['count'],\n",
        "                                          'amount':['mean']}                                                                                        \n",
        "                                         ).reset_index()\n",
        "closed_contracts\n",
        "print('Количество закрытых договоров и средняя прибыль, которую компания получила с них по итогу')"
      ],
      "execution_count": null,
      "outputs": [
        {
          "output_type": "stream",
          "text": [
            "Количество закрытых договоров и средняя прибыль, которую компания получила с них по итогу\n"
          ],
          "name": "stdout"
        }
      ]
    },
    {
      "cell_type": "code",
      "metadata": {
        "id": "t8OX6kIINp9H",
        "outputId": "a7f197fd-2686-4f49-af71-6574bbe52a71"
      },
      "source": [
        "N = 3\n",
        "ind = np.arange(N)    \n",
        "width = 0.35       \n",
        "\n",
        "fig, ax = plt.subplots()\n",
        "rects1 = ax.bar(ind - width/2, closed_contracts['amount', 'mean'].round(1), width\n",
        "                )\n",
        "rects2 = ax.bar(ind + width/2, closed_contracts['agree_id', 'count'].round(1), width\n",
        "                )\n",
        "\n",
        "def autolabel(rects, xpos='center'):\n",
        "   \n",
        "    ha = {'center': 'center', 'right': 'left', 'left': 'right'}\n",
        "    offset = {'center': 0, 'right': 1, 'left': -1}\n",
        "\n",
        "    for rect in rects:\n",
        "        height = rect.get_height()\n",
        "        ax.annotate('{}'.format(height),\n",
        "                    xy=(rect.get_x() + rect.get_width() / 2, height),\n",
        "                    xytext=(offset[xpos]*3, 3), \n",
        "                    textcoords=\"offset points\",  \n",
        "                    ha=ha[xpos], va='bottom')\n",
        "\n",
        "\n",
        "autolabel(rects1, \"center\")\n",
        "autolabel(rects2, \"center\")\n",
        "\n",
        "fig.tight_layout()\n",
        "\n",
        "\n",
        "plt.xlabel('Недели')\n",
        "plt.title('Количество договоров и средняя прибыль, которую компания получила с них по итогу', fontsize=15)\n",
        "plt.xticks(ind, ('40', '41', '42'))\n",
        "plt.legend((rects1[0], rects2[0]), ('Средняя прибыль по договорам в рублях', 'Количество договоров в штуках'))\n",
        "plt.grid(axis='both', alpha=.3)\n",
        "plt.ylim(0, 30000)\n",
        "plt.show()"
      ],
      "execution_count": null,
      "outputs": [
        {
          "output_type": "display_data",
          "data": {
            "image/png": "[encoded data removed]",
            "text/plain": [
              "<Figure size 432x288 with 1 Axes>"
            ]
          },
          "metadata": {
            "tags": [],
            "needs_background": "light"
          }
        }
      ]
    },
    {
      "cell_type": "markdown",
      "metadata": {
        "id": "FT47lduRNp9I"
      },
      "source": [
        "**Какие изменения за каждую неделю по отношению к предыдущей по выплатам со стороны клиентов;**\n",
        " <a name=\"14.\"></a>"
      ]
    },
    {
      "cell_type": "code",
      "metadata": {
        "id": "J_N08Q3eNp9J",
        "outputId": "cdfd76e7-e95b-4014-9884-f7d5e781ba28"
      },
      "source": [
        "changing_payouts = df.query('week ==(39,40,41,42) and status_id == 60').groupby('week').agg({'amount':['sum']}                                                                                        \n",
        "                                                                           ).diff().reset_index().round(1)\n",
        "changing_payouts.columns = changing_payouts.columns.droplevel(1)\n",
        "changing_payouts\n",
        "print('Изменения за каждую неделю по отношению к предыдущей по выплатам со стороны клиентов')"
      ],
      "execution_count": null,
      "outputs": [
        {
          "output_type": "stream",
          "text": [
            "Изменения за каждую неделю по отношению к предыдущей по выплатам со стороны клиентов\n"
          ],
          "name": "stdout"
        }
      ]
    },
    {
      "cell_type": "code",
      "metadata": {
        "id": "h-50KvXJNp9K",
        "outputId": "e4ea7111-5f91-463d-b397-4c31898f69b0"
      },
      "source": [
        "import random\n",
        "\n",
        "all_colors = list(plt.cm.colors.cnames.keys())\n",
        "random.seed(100)\n",
        "c = random.choices(all_colors, k=3)\n",
        "width = 0.35 \n",
        "\n",
        "plt.figure(figsize=(8,4), dpi= 60)\n",
        "plt.bar(changing_payouts['week'],changing_payouts['amount'],   color=c, width=width)\n",
        "plt.xticks(range(40, 43, 1))\n",
        "plt.grid(axis='both', alpha=.3)\n",
        "plt.xlabel('Недели')\n",
        "plt.title('Изменения за каждую неделю по отношению к предыдущей по выплатам со стороны клиентов', fontsize=15)\n",
        "plt.axhline(linewidth=2, color='#d62728')\n",
        "plt.show()"
      ],
      "execution_count": null,
      "outputs": [
        {
          "output_type": "display_data",
          "data": {
            "image/png": "[encoded data removed]",
            "text/plain": [
              "<Figure size 480x240 with 1 Axes>"
            ]
          },
          "metadata": {
            "tags": [],
            "needs_background": "light"
          }
        }
      ]
    },
    {
      "cell_type": "markdown",
      "metadata": {
        "id": "e3oCRHfVNp9L"
      },
      "source": [
        " - В нашем случае с каждой последующеей неделей выплата со стороны клиентов становилось меньше"
      ]
    },
    {
      "cell_type": "markdown",
      "metadata": {
        "id": "QpTL8JnsNp9L"
      },
      "source": [
        "## 5. Кластерезация  клиентов (person_id) по двум параметрам: частота заключенных договоров и суммы, на которые эти договора заключались;\n",
        "<a name=\"16.\"></a>\n",
        "[<font size=\"2\">(к содержанию)</font>](#1common.)"
      ]
    },
    {
      "cell_type": "code",
      "metadata": {
        "id": "AgWi_o5ENp9N"
      },
      "source": [
        "person_id = df.groupby('person_id_x').agg({'agree_id':['count'],\n",
        "                              'loan_money':['sum']}                                                                                        \n",
        "                                                  )\n",
        "person_id.columns = person_id.columns.droplevel(1)"
      ],
      "execution_count": null,
      "outputs": []
    },
    {
      "cell_type": "code",
      "metadata": {
        "scrolled": true,
        "id": "R9ViLECENp9O",
        "outputId": "e7e2612f-0ebb-497f-e4c0-75dde4566999"
      },
      "source": [
        "sns.pairplot(df.groupby('person_id_x').agg({'agree_id':['count'],\n",
        "                              'loan_money':['sum']}                                                                                        \n",
        "                                                  ).reset_index(), diag_kind='hist')"
      ],
      "execution_count": null,
      "outputs": [
        {
          "output_type": "execute_result",
          "data": {
            "text/plain": [
              "<seaborn.axisgrid.PairGrid at 0x7f04884f5d10>"
            ]
          },
          "metadata": {
            "tags": []
          },
          "execution_count": 51
        },
        {
          "output_type": "display_data",
          "data": {
            "image/png": "[encoded data removed]",
            "text/plain": [
              "<Figure size 540x540 with 12 Axes>"
            ]
          },
          "metadata": {
            "tags": [],
            "needs_background": "light"
          }
        }
      ]
    },
    {
      "cell_type": "markdown",
      "metadata": {
        "id": "-yib4RR_Np9P"
      },
      "source": [
        "Определим оптимальное количество кластеров"
      ]
    },
    {
      "cell_type": "code",
      "metadata": {
        "id": "ZPQhpmfcNp9P",
        "outputId": "a79e2635-91f3-47b0-ec98-5fe934eb34dc"
      },
      "source": [
        "%%time\n",
        "distortion = []\n",
        "K = range(1,12)\n",
        "for k in K:\n",
        "    model = KMeans(n_clusters=k, random_state=12345)\n",
        "    model.fit(person_id)\n",
        "    distortion.append(model.inertia_) "
      ],
      "execution_count": null,
      "outputs": [
        {
          "output_type": "stream",
          "text": [
            "CPU times: user 11.1 s, sys: 9.11 s, total: 20.2 s\n",
            "Wall time: 20.3 s\n"
          ],
          "name": "stdout"
        }
      ]
    },
    {
      "cell_type": "code",
      "metadata": {
        "id": "nVhK6gkWNp9Q",
        "outputId": "4830f3e7-45ab-4731-ebc4-2e9b3d6f25a3"
      },
      "source": [
        "plt.figure(figsize=(8, 5))\n",
        "plt.plot(K, distortion, 'bx-')\n",
        "plt.xlabel('Число кластеров')\n",
        "plt.ylabel('Значение целевой функции')\n",
        "plt.show() "
      ],
      "execution_count": null,
      "outputs": [
        {
          "output_type": "display_data",
          "data": {
            "image/png": "[encoded data removed]",
            "text/plain": [
              "<Figure size 576x360 with 1 Axes>"
            ]
          },
          "metadata": {
            "tags": [],
            "needs_background": "light"
          }
        }
      ]
    },
    {
      "cell_type": "markdown",
      "metadata": {
        "id": "4p_tTmpqNp9R"
      },
      "source": [
        "После 4 кластеров целевая функция выходит на плато. Но посмотрев на разбиение кластеров, решил добавить ещё один. Он лучше отделил сегмент заемщиков, берущих крупные суммы."
      ]
    },
    {
      "cell_type": "code",
      "metadata": {
        "id": "PmHN8R4ONp9S"
      },
      "source": [
        "model = KMeans(n_clusters=5, random_state=12345)\n",
        "model.fit(person_id)\n",
        "centroids = pd.DataFrame(model.cluster_centers_, columns=person_id.columns)"
      ],
      "execution_count": null,
      "outputs": []
    },
    {
      "cell_type": "code",
      "metadata": {
        "scrolled": true,
        "id": "opKkOlXZNp9S",
        "outputId": "9111c3aa-7ab6-4b72-9a25-b8be9f6e29a4"
      },
      "source": [
        "person_id['label'] = model.labels_.astype(str)\n",
        "centroids['label'] = ['0 centroid', '1 centroid', '2 centroid', '3 centroid', '4 centroid']\n",
        "person_id_all = pd.concat([person_id, centroids], ignore_index=True)\n",
        "\n",
        "sns.pairplot(person_id_all, hue='label', diag_kind='hist', height=5)"
      ],
      "execution_count": null,
      "outputs": [
        {
          "output_type": "execute_result",
          "data": {
            "text/plain": [
              "<seaborn.axisgrid.PairGrid at 0x7f0490561e90>"
            ]
          },
          "metadata": {
            "tags": []
          },
          "execution_count": 55
        },
        {
          "output_type": "display_data",
          "data": {
            "image/png": "[encoded data removed]",
            "text/plain": [
              "<Figure size 806.75x720 with 6 Axes>"
            ]
          },
          "metadata": {
            "tags": [],
            "needs_background": "light"
          }
        }
      ]
    },
    {
      "cell_type": "code",
      "metadata": {
        "id": "n2hGd7fbNp9T",
        "outputId": "ae21a0ad-d45d-49d4-e424-cd81412707a4"
      },
      "source": [
        "person_id"
      ],
      "execution_count": null,
      "outputs": [
        {
          "output_type": "execute_result",
          "data": {
            "text/html": [
              "<div>\n",
              "<style scoped>\n",
              "    .dataframe tbody tr th:only-of-type {\n",
              "        vertical-align: middle;\n",
              "    }\n",
              "\n",
              "    .dataframe tbody tr th {\n",
              "        vertical-align: top;\n",
              "    }\n",
              "\n",
              "    .dataframe thead th {\n",
              "        text-align: right;\n",
              "    }\n",
              "</style>\n",
              "<table border=\"1\" class=\"dataframe\">\n",
              "  <thead>\n",
              "    <tr style=\"text-align: right;\">\n",
              "      <th></th>\n",
              "      <th>agree_id</th>\n",
              "      <th>loan_money</th>\n",
              "      <th>label</th>\n",
              "    </tr>\n",
              "    <tr>\n",
              "      <th>person_id_x</th>\n",
              "      <th></th>\n",
              "      <th></th>\n",
              "      <th></th>\n",
              "    </tr>\n",
              "  </thead>\n",
              "  <tbody>\n",
              "    <tr>\n",
              "      <td>593.0</td>\n",
              "      <td>5</td>\n",
              "      <td>172900</td>\n",
              "      <td>2</td>\n",
              "    </tr>\n",
              "    <tr>\n",
              "      <td>1576.0</td>\n",
              "      <td>10</td>\n",
              "      <td>478800</td>\n",
              "      <td>1</td>\n",
              "    </tr>\n",
              "    <tr>\n",
              "      <td>3332.0</td>\n",
              "      <td>6</td>\n",
              "      <td>299880</td>\n",
              "      <td>1</td>\n",
              "    </tr>\n",
              "    <tr>\n",
              "      <td>4904.0</td>\n",
              "      <td>4</td>\n",
              "      <td>76720</td>\n",
              "      <td>0</td>\n",
              "    </tr>\n",
              "    <tr>\n",
              "      <td>5303.0</td>\n",
              "      <td>4</td>\n",
              "      <td>82320</td>\n",
              "      <td>0</td>\n",
              "    </tr>\n",
              "    <tr>\n",
              "      <td>...</td>\n",
              "      <td>...</td>\n",
              "      <td>...</td>\n",
              "      <td>...</td>\n",
              "    </tr>\n",
              "    <tr>\n",
              "      <td>2299548.0</td>\n",
              "      <td>2</td>\n",
              "      <td>18760</td>\n",
              "      <td>0</td>\n",
              "    </tr>\n",
              "    <tr>\n",
              "      <td>2299909.0</td>\n",
              "      <td>4</td>\n",
              "      <td>48720</td>\n",
              "      <td>0</td>\n",
              "    </tr>\n",
              "    <tr>\n",
              "      <td>2300107.0</td>\n",
              "      <td>2</td>\n",
              "      <td>16800</td>\n",
              "      <td>0</td>\n",
              "    </tr>\n",
              "    <tr>\n",
              "      <td>2300306.0</td>\n",
              "      <td>2</td>\n",
              "      <td>35560</td>\n",
              "      <td>0</td>\n",
              "    </tr>\n",
              "    <tr>\n",
              "      <td>2300439.0</td>\n",
              "      <td>2</td>\n",
              "      <td>16800</td>\n",
              "      <td>0</td>\n",
              "    </tr>\n",
              "  </tbody>\n",
              "</table>\n",
              "<p>23815 rows × 3 columns</p>\n",
              "</div>"
            ],
            "text/plain": [
              "             agree_id  loan_money label\n",
              "person_id_x                            \n",
              "593.0               5      172900     2\n",
              "1576.0             10      478800     1\n",
              "3332.0              6      299880     1\n",
              "4904.0              4       76720     0\n",
              "5303.0              4       82320     0\n",
              "...               ...         ...   ...\n",
              "2299548.0           2       18760     0\n",
              "2299909.0           4       48720     0\n",
              "2300107.0           2       16800     0\n",
              "2300306.0           2       35560     0\n",
              "2300439.0           2       16800     0\n",
              "\n",
              "[23815 rows x 3 columns]"
            ]
          },
          "metadata": {
            "tags": []
          },
          "execution_count": 56
        }
      ]
    },
    {
      "cell_type": "markdown",
      "metadata": {
        "id": "krvxXvf5Np9T"
      },
      "source": [
        "Основой является получение максимальной прибыли при минимизации рисков. Если по поводу второго - естественно приходит в голову выделить кластер с теми, кто не вернул кредиты и наоборот. То по поводу увеличения прибыли более приоритетными могут быть клиенты, берущие займ на продолжительный срок и крупную сумму. Можно выделить кластер с теми, кто берет деньги на день, два - это явно отдельная каста. Возможно разделение по сезонности."
      ]
    },
    {
      "cell_type": "code",
      "metadata": {
        "id": "ytfBbxwxNp9U",
        "outputId": "7410c0a5-54c5-4c3a-f90c-0d8359fe04fe"
      },
      "source": [
        "#выгрузим таблицу\n",
        "!pip install openpyxl\n",
        "with pd.ExcelWriter('fin.xlsx') as writer:  \n",
        "    df.to_excel(writer, sheet_name='Sheet_name_1')\n",
        "    contracts.to_excel(writer, sheet_name='Sheet_name_2')\n",
        "    concluded_contract.to_excel(writer, sheet_name='Sheet_name_3')\n",
        "    closed_contracts.to_excel(writer, sheet_name='Sheet_name_4')\n",
        "    changing_payouts.to_excel(writer, sheet_name='Sheet_name_5')"
      ],
      "execution_count": null,
      "outputs": [
        {
          "output_type": "stream",
          "text": [
            "Defaulting to user installation because normal site-packages is not writeable\n",
            "Collecting openpyxl\n",
            "  Downloading openpyxl-3.0.5-py2.py3-none-any.whl (242 kB)\n",
            "\u001b[K     |████████████████████████████████| 242 kB 3.0 MB/s eta 0:00:01\n",
            "\u001b[?25hCollecting jdcal\n",
            "  Downloading jdcal-1.4.1-py2.py3-none-any.whl (9.5 kB)\n",
            "Collecting et-xmlfile\n",
            "  Downloading et_xmlfile-1.0.1.tar.gz (8.4 kB)\n",
            "Building wheels for collected packages: et-xmlfile\n",
            "  Building wheel for et-xmlfile (setup.py) ... \u001b[?25ldone\n",
            "\u001b[?25h  Created wheel for et-xmlfile: filename=et_xmlfile-1.0.1-py3-none-any.whl size=8915 sha256=c37aa374a609f41d5423b113260a74ce218f459c6698323f474f080406008875\n",
            "  Stored in directory: /home/jovyan/.cache/pip/wheels/e2/bd/55/048b4fd505716c4c298f42ee02dffd9496bb6d212b266c7f31\n",
            "Successfully built et-xmlfile\n",
            "Installing collected packages: jdcal, et-xmlfile, openpyxl\n",
            "Successfully installed et-xmlfile-1.0.1 jdcal-1.4.1 openpyxl-3.0.5\n"
          ],
          "name": "stdout"
        }
      ]
    }
  ]
}